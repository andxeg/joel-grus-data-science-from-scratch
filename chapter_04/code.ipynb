{
 "cells": [
  {
   "cell_type": "markdown",
   "metadata": {},
   "source": [
    "# Simple linear algebra"
   ]
  },
  {
   "cell_type": "markdown",
   "metadata": {},
   "source": [
    "# Vectors"
   ]
  },
  {
   "cell_type": "code",
   "execution_count": 1,
   "metadata": {},
   "outputs": [],
   "source": [
    "import math\n",
    "from functools import reduce, partial\n",
    "\n",
    "def vector_add(v, w):\n",
    "    return [v_i + w_i for v_i, w_i in zip(v, w)]\n",
    "\n",
    "def vector_sub(v, w):\n",
    "    return [v_i - w_i for v_i, w_i in zip(v, w)]\n",
    "\n",
    "def vector_sum(vectors):\n",
    "    return reduce(vector_add, vectors)\n",
    "\n",
    "# or another variant\n",
    "vector_sum = partial(reduce, vector_add)\n",
    "\n",
    "def scalar_multiply(c, v):\n",
    "    return [c * v_i for v_i in v]\n",
    "\n",
    "def vector_mean(vectors):\n",
    "    \"\"\"\n",
    "        vector, which i-th element is a mean value of all i-th elements\n",
    "    \"\"\"\n",
    "    return scalar_multiply(1.0 / len(vectors), vector_sum(vectors))\n",
    "\n",
    "def dot(v, w):\n",
    "    return sum(v_i * w_i for v_i, w_i in zip(v, w))\n",
    "\n",
    "def sum_of_squares(v):\n",
    "    return dot(v, v)\n",
    "\n",
    "def magnitude(v):\n",
    "    return math.sqrt(sum_of_squares(v))\n",
    "\n",
    "def squared_distance(v, w):\n",
    "    return sum_of_squares(vector_sub(v, w))\n",
    "\n",
    "def distance(v, w):\n",
    "    return math.sqrt(squared_distance(v, w))\n",
    "\n",
    "# or\n",
    "def distance(v, w):\n",
    "    return magnitude(vector_sub(v, w))\n"
   ]
  },
  {
   "cell_type": "code",
   "execution_count": 2,
   "metadata": {},
   "outputs": [
    {
     "name": "stdout",
     "output_type": "stream",
     "text": [
      "Add:  [5, 7, 9]\n",
      "Sub:  [-3, -3, -3]\n",
      "Sum:  [22, 26, 30]\n",
      "Mul:  [70, 80, 90]\n",
      "Mean:  [5.5, 6.5, 7.5]\n",
      "Dot:  32\n",
      "Sum of squares:  14\n",
      "Magnitude:  3.7416573867739413\n",
      "Distance(v, w):  5.196152422706632\n"
     ]
    }
   ],
   "source": [
    "v = [1,2,3]\n",
    "w = [4,5,6]\n",
    "a = [7,8,9]\n",
    "b = [10,11,12]\n",
    "\n",
    "print(\"Add: \", vector_add(v,w))\n",
    "print(\"Sub: \", vector_sub(v,w))\n",
    "print(\"Sum: \", vector_sum([v, w, a, b]))\n",
    "print(\"Mul: \", scalar_multiply(10, a))\n",
    "print(\"Mean: \", vector_mean([v, w, a, b]))\n",
    "print(\"Dot: \", dot(v, w))\n",
    "print(\"Sum of squares: \", sum_of_squares(v))\n",
    "print(\"Magnitude: \", magnitude(v))\n",
    "print(\"Distance(v, w): \", distance(v, w))\n"
   ]
  },
  {
   "cell_type": "markdown",
   "metadata": {},
   "source": [
    "# Matrixes"
   ]
  },
  {
   "cell_type": "code",
   "execution_count": 3,
   "metadata": {},
   "outputs": [],
   "source": [
    "A = [[1, 2, 3],\n",
    "     [4, 5, 6]] # matrix A with 2 rows and 2 columns\n",
    "\n",
    "B = [[1 ,2],\n",
    "     [3, 4],\n",
    "     [4, 5]]    # matrix B with 3 rows and 2 columns"
   ]
  },
  {
   "cell_type": "code",
   "execution_count": 4,
   "metadata": {},
   "outputs": [],
   "source": [
    "def shape(A):\n",
    "    num_rows = len(A)\n",
    "    num_cols = len(A[0]) if A else 0\n",
    "    return num_rows, num_cols\n",
    "\n",
    "def get_row(A, i):\n",
    "    return A[i]\n",
    "\n",
    "def get_col(A, j):\n",
    "    return [A_i[j] for A_i in A]\n",
    "\n",
    "def make_matrix(num_rows, num_cols, entry_fun):\n",
    "    return [[entry_fun(i, j)\n",
    "            for i in range(num_cols)]\n",
    "            for j in range(num_rows)]\n",
    "\n",
    "def is_diagonal(i, j):\n",
    "    return 1 if i == j else 0"
   ]
  },
  {
   "cell_type": "code",
   "execution_count": 5,
   "metadata": {},
   "outputs": [
    {
     "name": "stdout",
     "output_type": "stream",
     "text": [
      "Shape A:  (2, 3)\n",
      "Shape B:  (3, 2)\n",
      "1-th row, A:  [4, 5, 6]\n",
      "1-th column, B:  [2, 4, 5]\n",
      "[[1, 0, 0, 0, 0], [0, 1, 0, 0, 0], [0, 0, 1, 0, 0], [0, 0, 0, 1, 0], [0, 0, 0, 0, 1]]\n"
     ]
    }
   ],
   "source": [
    "print(\"Shape A: \", shape(A))\n",
    "print(\"Shape B: \", shape(B))\n",
    "print(\"1-th row, A: \", get_row(A, 1))\n",
    "print(\"1-th column, B: \", get_col(B, 1))\n",
    "\n",
    "identity_matrix = make_matrix(5, 5, is_diagonal)\n",
    "print(identity_matrix)\n"
   ]
  },
  {
   "cell_type": "code",
   "execution_count": 14,
   "metadata": {},
   "outputs": [
    {
     "name": "stdout",
     "output_type": "stream",
     "text": [
      "[0, 1, 1, 0, 0, 0, 0, 0, 0, 0]\n",
      "[1, 0, 1, 1, 0, 0, 0, 0, 0, 0]\n",
      "[1, 1, 0, 1, 0, 0, 0, 0, 0, 0]\n",
      "[0, 1, 1, 0, 1, 0, 0, 0, 0, 0]\n",
      "[0, 0, 0, 1, 0, 1, 0, 0, 0, 0]\n",
      "[0, 0, 0, 0, 1, 0, 1, 1, 0, 0]\n",
      "[0, 0, 0, 0, 0, 1, 0, 0, 1, 0]\n",
      "[0, 0, 0, 0, 0, 1, 0, 0, 1, 0]\n",
      "[0, 0, 0, 0, 0, 0, 1, 1, 0, 1]\n",
      "[0, 0, 0, 0, 0, 0, 0, 0, 1, 0]\n"
     ]
    }
   ],
   "source": [
    "from functools import partial\n",
    "from functools import reduce\n",
    "\n",
    "friendships = [(0, 1), (0, 2), (1, 2), (1, 3), (2, 3), (3, 4),\n",
    "               (4, 5), (5, 6), (5, 7), (6, 8), (7, 8), (8, 9)]\n",
    "\n",
    "def is_friendships(links, i, j):\n",
    "    return 1 if (i, j) in links or (j, i) in links else 0\n",
    "\n",
    "n_rows = reduce(lambda p_1, p_2: max(p_1, max(p_2)), friendships, -1) + 1\n",
    "friendships = make_matrix(n_rows, n_rows, partial(is_friendships, friendships))\n",
    "\n",
    "for r in friendships:\n",
    "    print(r)"
   ]
  },
  {
   "cell_type": "code",
   "execution_count": 16,
   "metadata": {},
   "outputs": [
    {
     "name": "stdout",
     "output_type": "stream",
     "text": [
      "1\n",
      "0\n"
     ]
    }
   ],
   "source": [
    "print(friendships[0][2])\n",
    "print(friendships[0][8])"
   ]
  },
  {
   "cell_type": "code",
   "execution_count": 18,
   "metadata": {},
   "outputs": [
    {
     "name": "stdout",
     "output_type": "stream",
     "text": [
      "[4, 6, 7]\n"
     ]
    }
   ],
   "source": [
    "friends_of_five = [i for i, is_friend in enumerate(friendships[5]) if is_friend]\n",
    "print(friends_of_five)"
   ]
  },
  {
   "cell_type": "markdown",
   "metadata": {},
   "source": [
    "# For further study"
   ]
  },
  {
   "cell_type": "markdown",
   "metadata": {},
   "source": [
    "Materials\n",
    "- https://www.math.ucdavis.edu/~linear/\n",
    "- http://joshua.smcvt.edu/linearalgebra/\n",
    "- https://www.math.brown.edu/~treil/papers/LADW/LADW.html\n",
    "- Numpy (https://numpy.org/)"
   ]
  }
 ],
 "metadata": {
  "kernelspec": {
   "display_name": "Python 3",
   "language": "python",
   "name": "python3"
  },
  "language_info": {
   "codemirror_mode": {
    "name": "ipython",
    "version": 3
   },
   "file_extension": ".py",
   "mimetype": "text/x-python",
   "name": "python",
   "nbconvert_exporter": "python",
   "pygments_lexer": "ipython3",
   "version": "3.5.2"
  }
 },
 "nbformat": 4,
 "nbformat_minor": 2
}
