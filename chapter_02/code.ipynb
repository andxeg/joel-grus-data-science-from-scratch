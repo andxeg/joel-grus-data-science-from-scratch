{
 "cells": [
  {
   "cell_type": "markdown",
   "metadata": {},
   "source": [
    "# Python short introduction"
   ]
  },
  {
   "cell_type": "code",
   "execution_count": 7,
   "metadata": {},
   "outputs": [
    {
     "data": {
      "text/plain": [
       "([1], [3])"
      ]
     },
     "execution_count": 7,
     "metadata": {},
     "output_type": "execute_result"
    }
   ],
   "source": [
    "my_tuple = ([1], [2])\n",
    "try:\n",
    "    my_tuple[1][0] = 3\n",
    "except TypeError:\n",
    "    print(\"tuples are immutable\")\n",
    "    \n",
    "my_tuple"
   ]
  },
  {
   "cell_type": "markdown",
   "metadata": {},
   "source": [
    "# Defaultdict"
   ]
  },
  {
   "cell_type": "code",
   "execution_count": 16,
   "metadata": {
    "scrolled": true
   },
   "outputs": [
    {
     "data": {
      "text/plain": [
       "defaultdict(int,\n",
       "            {'a': 7,\n",
       "             'ac': 12,\n",
       "             'ac.': 3,\n",
       "             'accumsan': 3,\n",
       "             'adipiscing': 12,\n",
       "             'adipiscing.': 4,\n",
       "             'aenean': 1,\n",
       "             'aenean.': 4,\n",
       "             'aliqua.': 1,\n",
       "             'aliquam': 7,\n",
       "             'aliquam.': 2,\n",
       "             'aliquet': 8,\n",
       "             'aliquet.': 1,\n",
       "             'amet': 23,\n",
       "             'amet,': 1,\n",
       "             'amet.': 2,\n",
       "             'ante': 3,\n",
       "             'arcu': 9,\n",
       "             'arcu.': 3,\n",
       "             'at': 17,\n",
       "             'auctor': 1,\n",
       "             'auctor.': 1,\n",
       "             'augue': 3,\n",
       "             'bibendum': 6,\n",
       "             'bibendum.': 1,\n",
       "             'blandit': 7,\n",
       "             'commodo': 8,\n",
       "             'condimentum': 7,\n",
       "             'congue': 1,\n",
       "             'consectetur': 9,\n",
       "             'consequat': 6,\n",
       "             'consequat.': 1,\n",
       "             'convallis': 2,\n",
       "             'cras': 7,\n",
       "             'cras.': 3,\n",
       "             'cum': 1,\n",
       "             'curabitur': 1,\n",
       "             'cursus': 5,\n",
       "             'diam': 8,\n",
       "             'diam.': 1,\n",
       "             'dictum': 2,\n",
       "             'dictumst': 3,\n",
       "             'dignissim': 3,\n",
       "             'dis': 1,\n",
       "             'do': 1,\n",
       "             'dolor': 8,\n",
       "             'dolor.': 1,\n",
       "             'dolore': 1,\n",
       "             'donec': 1,\n",
       "             'dui': 8,\n",
       "             'dui.': 1,\n",
       "             'duis': 7,\n",
       "             'duis.': 1,\n",
       "             'egestas': 15,\n",
       "             'egestas.': 2,\n",
       "             'eget': 12,\n",
       "             'eiusmod': 1,\n",
       "             'eleifend': 2,\n",
       "             'elementum': 7,\n",
       "             'elementum.': 1,\n",
       "             'elit': 6,\n",
       "             'elit,': 1,\n",
       "             'elit.': 1,\n",
       "             'enim': 11,\n",
       "             'enim.': 1,\n",
       "             'erat': 4,\n",
       "             'erat.': 1,\n",
       "             'eros.': 2,\n",
       "             'est': 11,\n",
       "             'est.': 1,\n",
       "             'et': 18,\n",
       "             'et.': 2,\n",
       "             'etiam': 4,\n",
       "             'eu': 12,\n",
       "             'eu.': 1,\n",
       "             'euismod': 3,\n",
       "             'facilisi': 2,\n",
       "             'facilisis': 7,\n",
       "             'fames': 4,\n",
       "             'fames.': 1,\n",
       "             'faucibus': 6,\n",
       "             'faucibus.': 3,\n",
       "             'felis': 3,\n",
       "             'felis.': 1,\n",
       "             'fermentum': 4,\n",
       "             'feugiat': 7,\n",
       "             'feugiat.': 1,\n",
       "             'fringilla': 4,\n",
       "             'fusce': 3,\n",
       "             'gravida': 4,\n",
       "             'gravida.': 3,\n",
       "             'habitant': 5,\n",
       "             'habitasse': 3,\n",
       "             'habitasse.': 1,\n",
       "             'hac': 4,\n",
       "             'hendrerit': 2,\n",
       "             'iaculis.': 1,\n",
       "             'id': 16,\n",
       "             'id.': 3,\n",
       "             'imperdiet': 6,\n",
       "             'imperdiet.': 1,\n",
       "             'in': 21,\n",
       "             'in.': 3,\n",
       "             'incididunt': 1,\n",
       "             'integer': 6,\n",
       "             'integer.': 1,\n",
       "             'interdum': 5,\n",
       "             'interdum.': 1,\n",
       "             'ipsum': 9,\n",
       "             'justo.': 1,\n",
       "             'labore': 1,\n",
       "             'lacinia': 2,\n",
       "             'lacus': 8,\n",
       "             'lacus.': 1,\n",
       "             'laoreet': 4,\n",
       "             'lectus': 8,\n",
       "             'lectus.': 3,\n",
       "             'leo': 8,\n",
       "             'leo.': 1,\n",
       "             'libero': 5,\n",
       "             'libero.': 1,\n",
       "             'lobortis': 3,\n",
       "             'lorem': 5,\n",
       "             'luctus': 2,\n",
       "             'maecenas': 2,\n",
       "             'maecenas.': 1,\n",
       "             'magna': 5,\n",
       "             'magnis': 1,\n",
       "             'malesuada': 5,\n",
       "             'malesuada.': 3,\n",
       "             'massa': 9,\n",
       "             'massa.': 3,\n",
       "             'mattis': 7,\n",
       "             'mattis.': 5,\n",
       "             'mauris': 12,\n",
       "             'mauris.': 2,\n",
       "             'metus': 3,\n",
       "             'mi': 8,\n",
       "             'mi.': 2,\n",
       "             'molestie': 2,\n",
       "             'mollis': 4,\n",
       "             'morbi': 9,\n",
       "             'morbi.': 2,\n",
       "             'mus': 1,\n",
       "             'nam': 2,\n",
       "             'natoque': 1,\n",
       "             'nec': 5,\n",
       "             'nec.': 1,\n",
       "             'neque': 8,\n",
       "             'netus': 4,\n",
       "             'netus.': 2,\n",
       "             'nibh': 10,\n",
       "             'nibh.': 2,\n",
       "             'nisi': 2,\n",
       "             'nisl': 9,\n",
       "             'non': 9,\n",
       "             'non.': 1,\n",
       "             'nulla': 4,\n",
       "             'nulla.': 5,\n",
       "             'nullam': 2,\n",
       "             'nunc': 10,\n",
       "             'nunc.': 5,\n",
       "             'odio': 6,\n",
       "             'odio.': 1,\n",
       "             'orci': 8,\n",
       "             'ornare': 7,\n",
       "             'parturient.': 1,\n",
       "             'pellentesque': 13,\n",
       "             'pellentesque.': 3,\n",
       "             'penatibus': 1,\n",
       "             'pharetra': 4,\n",
       "             'phasellus': 3,\n",
       "             'phasellus.': 1,\n",
       "             'placerat': 8,\n",
       "             'platea': 3,\n",
       "             'platea.': 1,\n",
       "             'porta': 2,\n",
       "             'porta.': 1,\n",
       "             'porttitor': 6,\n",
       "             'porttitor.': 1,\n",
       "             'posuere': 3,\n",
       "             'potenti': 1,\n",
       "             'praesent': 2,\n",
       "             'praesent.': 1,\n",
       "             'pretium': 8,\n",
       "             'proin': 3,\n",
       "             'proin.': 2,\n",
       "             'pulvinar': 12,\n",
       "             'purus': 6,\n",
       "             'quam': 6,\n",
       "             'quis': 11,\n",
       "             'quis.': 1,\n",
       "             'quisque': 4,\n",
       "             'rhoncus': 5,\n",
       "             'rhoncus.': 2,\n",
       "             'ridiculus': 1,\n",
       "             'risus': 9,\n",
       "             'risus.': 1,\n",
       "             'rutrum': 2,\n",
       "             'sagittis': 5,\n",
       "             'sagittis.': 1,\n",
       "             'sapien': 4,\n",
       "             'scelerisque': 3,\n",
       "             'sed': 25,\n",
       "             'sed.': 1,\n",
       "             'sem': 3,\n",
       "             'semper': 5,\n",
       "             'semper.': 2,\n",
       "             'senectus': 5,\n",
       "             'sit': 23,\n",
       "             'sociis': 1,\n",
       "             'sodales': 2,\n",
       "             'sollicitudin': 3,\n",
       "             'sollicitudin.': 1,\n",
       "             'suscipit': 2,\n",
       "             'suspendisse': 7,\n",
       "             'suspendisse.': 1,\n",
       "             'tellus': 13,\n",
       "             'tellus.': 3,\n",
       "             'tempor': 4,\n",
       "             'tempor.': 2,\n",
       "             'tempus': 3,\n",
       "             'tempus.': 1,\n",
       "             'tincidunt': 9,\n",
       "             'tincidunt.': 2,\n",
       "             'tortor': 8,\n",
       "             'tortor.': 2,\n",
       "             'tristique': 5,\n",
       "             'tristique.': 1,\n",
       "             'turpis': 10,\n",
       "             'turpis.': 1,\n",
       "             'ullamcorper': 3,\n",
       "             'ullamcorper.': 1,\n",
       "             'ultrices': 5,\n",
       "             'ultrices.': 1,\n",
       "             'ultricies': 5,\n",
       "             'ultricies.': 1,\n",
       "             'urna': 12,\n",
       "             'urna.': 2,\n",
       "             'ut': 15,\n",
       "             'varius': 3,\n",
       "             'vel': 6,\n",
       "             'vel.': 2,\n",
       "             'velit': 4,\n",
       "             'velit.': 2,\n",
       "             'venenatis': 2,\n",
       "             'vestibulum': 7,\n",
       "             'vestibulum.': 1,\n",
       "             'vitae': 8,\n",
       "             'vitae.': 2,\n",
       "             'vivamus': 3,\n",
       "             'viverra': 10,\n",
       "             'volutpat': 11,\n",
       "             'vulputate': 3})"
      ]
     },
     "execution_count": 16,
     "metadata": {},
     "output_type": "execute_result"
    }
   ],
   "source": [
    "from collections import defaultdict\n",
    "\n",
    "word_counts = defaultdict(int)\n",
    "document = \"Lorem ipsum dolor sit amet, consectetur adipiscing elit, sed do eiusmod tempor incididunt ut labore et dolore magna aliqua. Tellus in metus vulputate eu scelerisque felis imperdiet proin. Id aliquet risus feugiat in ante metus dictum at tempor. Etiam dignissim diam quis enim. Est placerat in egestas erat. Arcu bibendum at varius vel pharetra vel. Suspendisse in est ante in nibh mauris cursus mattis. Risus in hendrerit gravida rutrum quisque non tellus. Feugiat in fermentum posuere urna nec tincidunt. Dolor sit amet consectetur adipiscing. Amet luctus venenatis lectus magna fringilla urna porttitor. Morbi tristique senectus et netus et malesuada. Lobortis elementum nibh tellus molestie nunc. Porttitor leo a diam sollicitudin tempor id eu nisl nunc. Mi eget mauris pharetra et. Facilisis volutpat est velit egestas dui id ornare arcu. Turpis egestas sed tempus urna. Lorem ipsum dolor sit amet consectetur adipiscing. Volutpat sed cras ornare arcu dui vivamus arcu felis. Nunc id cursus metus aliquam eleifend mi in nulla. Non blandit massa enim nec dui. Ut eu sem integer vitae justo. Suscipit adipiscing bibendum est ultricies integer quis. Dui ut ornare lectus sit amet est placerat in. Sit amet massa vitae tortor. Mollis aliquam ut porttitor leo a diam. Sed libero enim sed faucibus turpis in eu mi. Fermentum et sollicitudin ac orci phasellus. Erat nam at lectus urna. Dolor sed viverra ipsum nunc aliquet bibendum enim facilisis gravida. Et malesuada fames ac turpis egestas integer eget aliquet nibh. In pellentesque massa placerat duis ultricies lacus sed turpis. Sed cras ornare arcu dui vivamus arcu felis bibendum. Fames ac turpis egestas maecenas. Commodo viverra maecenas accumsan lacus. Velit ut tortor pretium viverra suspendisse potenti nullam ac. Luctus accumsan tortor posuere ac ut consequat semper. Urna id volutpat lacus laoreet non curabitur gravida. Mauris pellentesque pulvinar pellentesque habitant morbi tristique. Adipiscing commodo elit at imperdiet dui accumsan sit amet. Scelerisque fermentum dui faucibus in ornare quam viverra orci sagittis. Sit amet nulla facilisi morbi tempus iaculis. Sagittis aliquam malesuada bibendum arcu vitae. Risus at ultrices mi tempus. Non tellus orci ac auctor. Nam aliquam sem et tortor consequat id porta. Lacus sed viverra tellus in hac habitasse. Morbi tristique senectus et netus. Sagittis purus sit amet volutpat consequat mauris nunc. Aenean euismod elementum nisi quis eleifend quam adipiscing. Ac orci phasellus egestas tellus. Lectus urna duis convallis convallis tellus id. Netus et malesuada fames ac turpis egestas. Vestibulum rhoncus est pellentesque elit ullamcorper. Et tortor at risus viverra adipiscing at in tellus integer. Non pulvinar neque laoreet suspendisse interdum consectetur libero id faucibus. Amet risus nullam eget felis eget nunc lobortis mattis aliquam. At tellus at urna condimentum mattis pellentesque id nibh tortor. Mollis aliquam ut porttitor leo. Eu feugiat pretium nibh ipsum consequat nisl vel pretium lectus. Venenatis lectus magna fringilla urna porttitor rhoncus dolor. Ut faucibus pulvinar elementum integer enim neque volutpat ac. Blandit turpis cursus in hac habitasse platea. Nunc consequat interdum varius sit amet mattis vulputate enim nulla. Purus non enim praesent elementum facilisis leo vel fringilla est. Sapien faucibus et molestie ac. Adipiscing enim eu turpis egestas pretium aenean. Tempor commodo ullamcorper a lacus vestibulum sed arcu non. Condimentum lacinia quis vel eros. Placerat in egestas erat imperdiet. Placerat duis ultricies lacus sed turpis tincidunt id aliquet risus. Fermentum posuere urna nec tincidunt praesent. Lacus vestibulum sed arcu non odio. Ipsum dolor sit amet consectetur adipiscing elit pellentesque habitant morbi. Amet nisl purus in mollis nunc sed id semper. Vitae sapien pellentesque habitant morbi. Ultrices gravida dictum fusce ut placerat orci nulla. Dignissim suspendisse in est ante in nibh mauris. Eget duis at tellus at urna condimentum mattis pellentesque. Volutpat blandit aliquam etiam erat velit. Tincidunt id aliquet risus feugiat in. Quis viverra nibh cras pulvinar mattis. Rhoncus est pellentesque elit ullamcorper dignissim cras tincidunt lobortis feugiat. Eu mi bibendum neque egestas congue quisque egestas. Leo vel orci porta non pulvinar neque laoreet suspendisse interdum. Odio facilisis mauris sit amet massa vitae. Ac orci phasellus egestas tellus rutrum tellus pellentesque eu. Sagittis nisl rhoncus mattis rhoncus. Quam quisque id diam vel quam elementum. Urna et pharetra pharetra massa massa. Nisl pretium fusce id velit ut tortor pretium viverra suspendisse. Eu nisl nunc mi ipsum faucibus vitae aliquet. Magna ac placerat vestibulum lectus mauris ultrices eros. Urna condimentum mattis pellentesque id nibh. Eget sit amet tellus cras. Augue interdum velit euismod in pellentesque massa placerat duis. Blandit cursus risus at ultrices mi tempus imperdiet nulla. Eget gravida cum sociis natoque penatibus et magnis dis parturient. Elementum pulvinar etiam non quam lacus suspendisse faucibus. Id diam maecenas ultricies mi. Suscipit adipiscing bibendum est ultricies. Tincidunt vitae semper quis lectus. Mattis nunc sed blandit libero volutpat sed cras. Diam donec adipiscing tristique risus nec. Vestibulum morbi blandit cursus risus at ultrices. Ipsum dolor sit amet consectetur adipiscing elit. Adipiscing enim eu turpis egestas pretium aenean. Leo duis ut diam quam nulla porttitor massa. Tempor commodo ullamcorper a lacus vestibulum. Augue mauris augue neque gravida. Semper eget duis at tellus at urna condimentum mattis. Tortor aliquam nulla facilisi cras. Senectus et netus et malesuada fames. Egestas egestas fringilla phasellus faucibus. Pellentesque habitant morbi tristique senectus et netus et malesuada. Platea dictumst quisque sagittis purus sit amet volutpat consequat. Adipiscing elit pellentesque habitant morbi tristique senectus et netus. Et malesuada fames ac turpis egestas sed. Magna eget est lorem ipsum dolor sit amet consectetur adipiscing. Nunc consequat interdum varius sit amet mattis. In hac habitasse platea dictumst vestibulum rhoncus. Sed vulputate mi sit amet mauris. Lorem ipsum dolor sit amet consectetur adipiscing elit pellentesque. Tellus in hac habitasse platea dictumst vestibulum rhoncus est pellentesque. Ut faucibus pulvinar elementum integer enim neque volutpat ac tincidunt. Ut porttitor leo a diam sollicitudin. Nulla aliquet enim tortor at auctor urna nunc. Viverra nibh cras pulvinar mattis. Mauris commodo quis imperdiet massa tincidunt nunc pulvinar sapien et. Sed enim ut sem viverra aliquet eget sit amet. Mauris sit amet massa vitae tortor condimentum lacinia quis vel. Sagittis orci a scelerisque purus semper eget duis at tellus. Sodales neque sodales ut etiam sit amet nisl purus in. Aliquet lectus proin nibh nisl condimentum id. Eu volutpat odio facilisis mauris sit amet massa. Leo a diam sollicitudin tempor. Sit amet mauris commodo quis imperdiet massa tincidunt nunc. Feugiat nibh sed pulvinar proin gravida hendrerit lectus. Feugiat nisl pretium fusce id velit. Nec tincidunt praesent semper feugiat nibh sed pulvinar proin. Nec ultrices dui sapien eget mi proin sed libero. Pulvinar neque laoreet suspendisse interdum consectetur libero id. Cras ornare arcu dui vivamus arcu. Ac tincidunt vitae semper quis lectus nulla. Egestas erat imperdiet sed euismod nisi porta lorem mollis aliquam. Nunc sed blandit libero volutpat sed cras ornare arcu. Eu facilisis sed odio morbi quis commodo odio aenean. Ridiculus mus mauris vitae ultricies leo integer malesuada. Elementum eu facilisis sed odio morbi quis commodo odio aenean.\"\n",
    "for word in document.lower().split():\n",
    "    word_counts[word] += 1\n",
    "\n",
    "word_counts"
   ]
  },
  {
   "cell_type": "markdown",
   "metadata": {},
   "source": [
    "# Counter"
   ]
  },
  {
   "cell_type": "code",
   "execution_count": 17,
   "metadata": {
    "scrolled": false
   },
   "outputs": [
    {
     "data": {
      "text/plain": [
       "[('sed', 25),\n",
       " ('amet', 23),\n",
       " ('sit', 23),\n",
       " ('in', 21),\n",
       " ('et', 18),\n",
       " ('at', 17),\n",
       " ('id', 16),\n",
       " ('egestas', 15),\n",
       " ('ut', 15),\n",
       " ('pellentesque', 13)]"
      ]
     },
     "execution_count": 17,
     "metadata": {},
     "output_type": "execute_result"
    }
   ],
   "source": [
    "from collections import Counter\n",
    "\n",
    "c = Counter([0, 1, 2, 0])\n",
    "word_counts = Counter(document.lower().split())\n",
    "word_counts.most_common(10)"
   ]
  },
  {
   "cell_type": "code",
   "execution_count": 22,
   "metadata": {},
   "outputs": [
    {
     "data": {
      "text/plain": [
       "[('sed', 25),\n",
       " ('amet', 23),\n",
       " ('sit', 23),\n",
       " ('in', 21),\n",
       " ('et', 18),\n",
       " ('at', 17),\n",
       " ('id', 16),\n",
       " ('egestas', 15),\n",
       " ('ut', 15),\n",
       " ('pellentesque', 13),\n",
       " ('tellus', 13),\n",
       " ('eget', 12),\n",
       " ('mauris', 12),\n",
       " ('pulvinar', 12),\n",
       " ('urna', 12),\n",
       " ('adipiscing', 12),\n",
       " ('ac', 12),\n",
       " ('eu', 12),\n",
       " ('quis', 11),\n",
       " ('enim', 11),\n",
       " ('volutpat', 11),\n",
       " ('est', 11),\n",
       " ('viverra', 10),\n",
       " ('nunc', 10),\n",
       " ('nibh', 10),\n",
       " ('turpis', 10),\n",
       " ('non', 9),\n",
       " ('arcu', 9),\n",
       " ('ipsum', 9),\n",
       " ('risus', 9),\n",
       " ('nisl', 9),\n",
       " ('consectetur', 9),\n",
       " ('morbi', 9),\n",
       " ('tincidunt', 9),\n",
       " ('massa', 9),\n",
       " ('tortor', 8),\n",
       " ('vitae', 8),\n",
       " ('lacus', 8),\n",
       " ('pretium', 8),\n",
       " ('lectus', 8),\n",
       " ('dolor', 8),\n",
       " ('neque', 8),\n",
       " ('aliquet', 8),\n",
       " ('commodo', 8),\n",
       " ('diam', 8),\n",
       " ('placerat', 8),\n",
       " ('orci', 8),\n",
       " ('leo', 8),\n",
       " ('mi', 8),\n",
       " ('dui', 8),\n",
       " ('cras', 7),\n",
       " ('aliquam', 7),\n",
       " ('facilisis', 7),\n",
       " ('vestibulum', 7),\n",
       " ('a', 7),\n",
       " ('elementum', 7),\n",
       " ('feugiat', 7),\n",
       " ('suspendisse', 7),\n",
       " ('condimentum', 7),\n",
       " ('duis', 7),\n",
       " ('mattis', 7),\n",
       " ('blandit', 7),\n",
       " ('ornare', 7),\n",
       " ('elit', 6),\n",
       " ('quam', 6),\n",
       " ('consequat', 6),\n",
       " ('odio', 6),\n",
       " ('purus', 6),\n",
       " ('vel', 6),\n",
       " ('imperdiet', 6),\n",
       " ('bibendum', 6),\n",
       " ('faucibus', 6),\n",
       " ('integer', 6),\n",
       " ('porttitor', 6),\n",
       " ('mattis.', 5),\n",
       " ('semper', 5),\n",
       " ('cursus', 5),\n",
       " ('malesuada', 5),\n",
       " ('sagittis', 5),\n",
       " ('senectus', 5),\n",
       " ('libero', 5),\n",
       " ('nulla.', 5),\n",
       " ('ultricies', 5),\n",
       " ('nunc.', 5),\n",
       " ('habitant', 5),\n",
       " ('interdum', 5),\n",
       " ('lorem', 5),\n",
       " ('magna', 5),\n",
       " ('nec', 5),\n",
       " ('rhoncus', 5),\n",
       " ('tristique', 5),\n",
       " ('ultrices', 5),\n",
       " ('netus', 4),\n",
       " ('aenean.', 4),\n",
       " ('tempor', 4),\n",
       " ('velit', 4),\n",
       " ('mollis', 4),\n",
       " ('hac', 4),\n",
       " ('gravida', 4),\n",
       " ('fames', 4),\n",
       " ('sapien', 4),\n",
       " ('pharetra', 4),\n",
       " ('erat', 4),\n",
       " ('etiam', 4),\n",
       " ('nulla', 4),\n",
       " ('quisque', 4),\n",
       " ('adipiscing.', 4),\n",
       " ('fringilla', 4),\n",
       " ('fermentum', 4),\n",
       " ('laoreet', 4),\n",
       " ('lobortis', 3),\n",
       " ('pellentesque.', 3),\n",
       " ('ullamcorper', 3),\n",
       " ('ac.', 3),\n",
       " ('malesuada.', 3),\n",
       " ('vivamus', 3),\n",
       " ('dictumst', 3),\n",
       " ('dignissim', 3),\n",
       " ('ante', 3),\n",
       " ('sollicitudin', 3),\n",
       " ('posuere', 3),\n",
       " ('varius', 3),\n",
       " ('platea', 3),\n",
       " ('arcu.', 3),\n",
       " ('in.', 3),\n",
       " ('tellus.', 3),\n",
       " ('augue', 3),\n",
       " ('gravida.', 3),\n",
       " ('euismod', 3),\n",
       " ('fusce', 3),\n",
       " ('tempus', 3),\n",
       " ('vulputate', 3),\n",
       " ('id.', 3),\n",
       " ('sem', 3),\n",
       " ('scelerisque', 3),\n",
       " ('accumsan', 3),\n",
       " ('proin', 3),\n",
       " ('habitasse', 3),\n",
       " ('faucibus.', 3),\n",
       " ('cras.', 3),\n",
       " ('metus', 3),\n",
       " ('felis', 3),\n",
       " ('phasellus', 3),\n",
       " ('lectus.', 3),\n",
       " ('massa.', 3),\n",
       " ('nam', 2),\n",
       " ('molestie', 2),\n",
       " ('facilisi', 2),\n",
       " ('praesent', 2),\n",
       " ('nisi', 2),\n",
       " ('maecenas', 2),\n",
       " ('proin.', 2),\n",
       " ('tempor.', 2),\n",
       " ('nullam', 2),\n",
       " ('tortor.', 2),\n",
       " ('mi.', 2),\n",
       " ('urna.', 2),\n",
       " ('vel.', 2),\n",
       " ('hendrerit', 2),\n",
       " ('semper.', 2),\n",
       " ('morbi.', 2),\n",
       " ('vitae.', 2),\n",
       " ('porta', 2),\n",
       " ('rutrum', 2),\n",
       " ('venenatis', 2),\n",
       " ('eros.', 2),\n",
       " ('aliquam.', 2),\n",
       " ('et.', 2),\n",
       " ('sodales', 2),\n",
       " ('luctus', 2),\n",
       " ('velit.', 2),\n",
       " ('rhoncus.', 2),\n",
       " ('eleifend', 2),\n",
       " ('convallis', 2),\n",
       " ('mauris.', 2),\n",
       " ('netus.', 2),\n",
       " ('nibh.', 2),\n",
       " ('amet.', 2),\n",
       " ('tincidunt.', 2),\n",
       " ('egestas.', 2),\n",
       " ('suscipit', 2),\n",
       " ('lacinia', 2),\n",
       " ('dictum', 2),\n",
       " ('odio.', 1),\n",
       " ('auctor', 1),\n",
       " ('platea.', 1),\n",
       " ('lacus.', 1),\n",
       " ('sociis', 1),\n",
       " ('incididunt', 1),\n",
       " ('libero.', 1),\n",
       " ('sagittis.', 1),\n",
       " ('est.', 1),\n",
       " ('non.', 1),\n",
       " ('aenean', 1),\n",
       " ('parturient.', 1),\n",
       " ('diam.', 1),\n",
       " ('imperdiet.', 1),\n",
       " ('elit.', 1),\n",
       " ('habitasse.', 1),\n",
       " ('magnis', 1),\n",
       " ('tristique.', 1),\n",
       " ('eu.', 1),\n",
       " ('erat.', 1),\n",
       " ('sollicitudin.', 1),\n",
       " ('turpis.', 1),\n",
       " ('ultrices.', 1),\n",
       " ('consequat.', 1),\n",
       " ('enim.', 1),\n",
       " ('ultricies.', 1),\n",
       " ('ullamcorper.', 1),\n",
       " ('interdum.', 1),\n",
       " ('natoque', 1),\n",
       " ('eiusmod', 1),\n",
       " ('penatibus', 1),\n",
       " ('dolore', 1),\n",
       " ('amet,', 1),\n",
       " ('aliqua.', 1),\n",
       " ('sed.', 1),\n",
       " ('integer.', 1),\n",
       " ('curabitur', 1),\n",
       " ('tempus.', 1),\n",
       " ('elementum.', 1),\n",
       " ('quis.', 1),\n",
       " ('auctor.', 1),\n",
       " ('phasellus.', 1),\n",
       " ('porttitor.', 1),\n",
       " ('dui.', 1),\n",
       " ('aliquet.', 1),\n",
       " ('felis.', 1),\n",
       " ('potenti', 1),\n",
       " ('porta.', 1),\n",
       " ('donec', 1),\n",
       " ('dolor.', 1),\n",
       " ('mus', 1),\n",
       " ('risus.', 1),\n",
       " ('vestibulum.', 1),\n",
       " ('leo.', 1),\n",
       " ('cum', 1),\n",
       " ('ridiculus', 1),\n",
       " ('dis', 1),\n",
       " ('iaculis.', 1),\n",
       " ('nec.', 1),\n",
       " ('do', 1),\n",
       " ('congue', 1),\n",
       " ('labore', 1),\n",
       " ('feugiat.', 1),\n",
       " ('suspendisse.', 1),\n",
       " ('fames.', 1),\n",
       " ('maecenas.', 1),\n",
       " ('duis.', 1),\n",
       " ('justo.', 1),\n",
       " ('bibendum.', 1),\n",
       " ('elit,', 1),\n",
       " ('praesent.', 1)]"
      ]
     },
     "execution_count": 22,
     "metadata": {},
     "output_type": "execute_result"
    }
   ],
   "source": [
    "wc = sorted(word_counts.items(), key=lambda p: p[1], reverse=True)\n",
    "wc"
   ]
  },
  {
   "cell_type": "markdown",
   "metadata": {},
   "source": [
    "# Sequence generation"
   ]
  },
  {
   "cell_type": "code",
   "execution_count": 25,
   "metadata": {},
   "outputs": [],
   "source": [
    "even_numbers = [x for x in range(100) if x % 2 == 0]\n",
    "squares = [x**2 for x in range(100)]\n",
    "even_squares = [x**2 for x in even_numbers]"
   ]
  },
  {
   "cell_type": "markdown",
   "metadata": {},
   "source": [
    "# Generators"
   ]
  },
  {
   "cell_type": "code",
   "execution_count": 26,
   "metadata": {},
   "outputs": [],
   "source": [
    "def lazy_range(n):\n",
    "    i = 0\n",
    "    while i < n:\n",
    "        yield i\n",
    "        i += 1"
   ]
  },
  {
   "cell_type": "code",
   "execution_count": 28,
   "metadata": {},
   "outputs": [],
   "source": [
    "# for i in lazy_range(10): print(i)"
   ]
  },
  {
   "cell_type": "code",
   "execution_count": 30,
   "metadata": {},
   "outputs": [
    {
     "data": {
      "text/plain": [
       "<generator object <genexpr> at 0x7f617f7c8200>"
      ]
     },
     "execution_count": 30,
     "metadata": {},
     "output_type": "execute_result"
    }
   ],
   "source": [
    "lazy_evens_below_20 = (i for i in lazy_range(20) if i % 2 == 0)\n",
    "lazy_evens_below_20"
   ]
  },
  {
   "cell_type": "markdown",
   "metadata": {},
   "source": [
    "# Random numbers"
   ]
  },
  {
   "cell_type": "code",
   "execution_count": 71,
   "metadata": {},
   "outputs": [
    {
     "name": "stdout",
     "output_type": "stream",
     "text": [
      "0.5714025946899135\n",
      "0.5714025946899135\n",
      "54\n"
     ]
    }
   ],
   "source": [
    "import random\n",
    "\n",
    "random.seed(10)\n",
    "print(random.random())\n",
    "random.seed(10)\n",
    "print(random.random())\n",
    "\n",
    "# random number from range\n",
    "print(random.randrange(100))"
   ]
  },
  {
   "cell_type": "code",
   "execution_count": 72,
   "metadata": {},
   "outputs": [
    {
     "name": "stdout",
     "output_type": "stream",
     "text": [
      "[0, 1, 2, 3, 4, 5, 6, 7, 8, 9]\n",
      "[4, 5, 8, 1, 2, 6, 9, 3, 0, 7]\n",
      "Bob\n"
     ]
    }
   ],
   "source": [
    "# shuffle list\n",
    "up_to_ten = list(range(10))\n",
    "print(up_to_ten)\n",
    "random.shuffle(up_to_ten)\n",
    "print(up_to_ten)\n",
    "\n",
    "# random choice\n",
    "my_best_friend = random.choice([\"Alice\", \"Bob\", \"Charley\"])\n",
    "print(my_best_friend)"
   ]
  },
  {
   "cell_type": "code",
   "execution_count": 86,
   "metadata": {},
   "outputs": [
    {
     "name": "stdout",
     "output_type": "stream",
     "text": [
      "[20, 15, 5, 16, 28, 25]\n",
      "[37, 10, 24, 58, 55, 31]\n"
     ]
    }
   ],
   "source": [
    "# random choice without return\n",
    "lottery_numbers = list(range(60))\n",
    "winning_numbers = random.sample(lottery_numbers, 6)\n",
    "print(winning_numbers)\n",
    "\n",
    "# random choice with return\n",
    "print([random.choice(lottery_numbers) for i in range(6)])"
   ]
  },
  {
   "cell_type": "markdown",
   "metadata": {},
   "source": [
    "# Regular Expression"
   ]
  },
  {
   "cell_type": "code",
   "execution_count": 88,
   "metadata": {},
   "outputs": [
    {
     "name": "stdout",
     "output_type": "stream",
     "text": [
      "True\n"
     ]
    }
   ],
   "source": [
    "import re\n",
    "\n",
    "print(all([\n",
    "    not re.match(\"a\", \"cat\"),              # 'cat' not start with 'a'\n",
    "    re.search(\"a\", \"cat\"),                 # 'a' in 'cat' -> True\n",
    "    not re.search(\"c\", \"dog\"),             # 'c' in 'dog' -> False\n",
    "    3 == len(re.split(\"[ab]\", \"carbs\")),   # split by 'a' and b' -> ['c', 'r', 's']\n",
    "    \"R-D-\" == re.sub(\"[0-9]\", \"-\", \"R2D2\") # replace numbers to '-'\n",
    "]))"
   ]
  },
  {
   "cell_type": "markdown",
   "metadata": {},
   "source": [
    "# Object-oriented programming"
   ]
  },
  {
   "cell_type": "code",
   "execution_count": 89,
   "metadata": {},
   "outputs": [],
   "source": [
    "class Set:\n",
    "    \"\"\" This is constructor\n",
    "        s1 = Set()\n",
    "        s2 = Set([1,2,2,3])\n",
    "    \"\"\"\n",
    "    def __init__(self, values=None):\n",
    "        self.dict = {}\n",
    "        if values is not None:\n",
    "            for value in values:\n",
    "                self.add(value)\n",
    "    \n",
    "    def __repr__(self):\n",
    "        \"\"\"\n",
    "            String representation.\n",
    "            Passed to function str()\n",
    "        \"\"\"\n",
    "        return \"Set: \" + str(self.dict.keys())\n",
    "    \n",
    "    def add(self, value):\n",
    "        self.dict[value] = True\n",
    "        \n",
    "    def contains(self, value):\n",
    "        return value in self.dict\n",
    "    \n",
    "    def remove(self, value):\n",
    "        del self.dict[value]"
   ]
  },
  {
   "cell_type": "code",
   "execution_count": 90,
   "metadata": {},
   "outputs": [
    {
     "name": "stdout",
     "output_type": "stream",
     "text": [
      "True\n",
      "False\n",
      "Set: dict_keys([1, 2, 4])\n"
     ]
    }
   ],
   "source": [
    "s = Set([1,2,3])\n",
    "s.add(4)\n",
    "print(s.contains(4))\n",
    "s.remove(3)\n",
    "print(s.contains(3))\n",
    "print(s)"
   ]
  },
  {
   "cell_type": "markdown",
   "metadata": {},
   "source": [
    "# Functional programming"
   ]
  },
  {
   "cell_type": "code",
   "execution_count": 91,
   "metadata": {},
   "outputs": [],
   "source": [
    "def exp(base, power):\n",
    "    return base ** power"
   ]
  },
  {
   "cell_type": "code",
   "execution_count": 98,
   "metadata": {},
   "outputs": [
    {
     "name": "stdout",
     "output_type": "stream",
     "text": [
      "8\n",
      "9\n"
     ]
    }
   ],
   "source": [
    "# partial\n",
    "from functools import partial\n",
    "\n",
    "two_to_the = partial(exp, 2)\n",
    "print(two_to_the(3))\n",
    "\n",
    "square_of = partial(exp, power=2)\n",
    "print(square_of(3))"
   ]
  },
  {
   "cell_type": "code",
   "execution_count": 110,
   "metadata": {},
   "outputs": [
    {
     "name": "stdout",
     "output_type": "stream",
     "text": [
      "[2, 4, 6, 8]\n",
      "[2, 4, 6, 8]\n",
      "[4, 10]\n"
     ]
    }
   ],
   "source": [
    "# map\n",
    "def double(x):\n",
    "    return 2 * x\n",
    "\n",
    "xs = [1,2,3,4]\n",
    "print(list(map(double, xs)))\n",
    "list_doubler = partial(map, double)\n",
    "twice_xs = list_doubler(xs)\n",
    "print(list(twice_xs))\n",
    "\n",
    "def multiply(x, y):\n",
    "    return x * y\n",
    "\n",
    "products = map(multiply, [1,2], [4,5])\n",
    "print(list(products))"
   ]
  },
  {
   "cell_type": "code",
   "execution_count": 111,
   "metadata": {},
   "outputs": [
    {
     "name": "stdout",
     "output_type": "stream",
     "text": [
      "[2, 4]\n"
     ]
    }
   ],
   "source": [
    "# filter\n",
    "def is_even(x):\n",
    "    return x % 2 == 0\n",
    "\n",
    "x_evens = [x for x in xs if is_even(x)]\n",
    "x_evens = filter(is_even, xs)\n",
    "list_evener = partial(filter, is_even)\n",
    "x_evens = list_evener(xs)\n",
    "print(list(x_evens))"
   ]
  },
  {
   "cell_type": "code",
   "execution_count": 114,
   "metadata": {},
   "outputs": [
    {
     "data": {
      "text/plain": [
       "24"
      ]
     },
     "execution_count": 114,
     "metadata": {},
     "output_type": "execute_result"
    }
   ],
   "source": [
    "# reduce\n",
    "from functools import reduce\n",
    "\n",
    "x_product  = reduce(multiply, xs)\n",
    "list_produce = partial(reduce, multiply)\n",
    "x_product = list_produce(xs)\n",
    "x_product"
   ]
  },
  {
   "cell_type": "markdown",
   "metadata": {},
   "source": [
    "# Enumerate"
   ]
  },
  {
   "cell_type": "code",
   "execution_count": 117,
   "metadata": {},
   "outputs": [],
   "source": [
    "document = \"Lorem ipsum dolor sit amet, consectetur adipiscing elit, sed do eiusmod tempor incididunt ut labore et dolore magna aliqua. Tellus in metus vulputate eu scelerisque felis imperdiet proin. Id aliquet risus feugiat in ante metus dictum at tempor. Etiam dignissim diam quis enim. Est placerat in egestas erat. Arcu bibendum at varius vel pharetra vel. Suspendisse in est ante in nibh mauris cursus mattis. Risus in hendrerit gravida rutrum quisque non tellus. Feugiat in fermentum posuere urna nec tincidunt. Dolor sit amet consectetur adipiscing. Amet luctus venenatis lectus magna fringilla urna porttitor. Morbi tristique senectus et netus et malesuada. Lobortis elementum nibh tellus molestie nunc. Porttitor leo a diam sollicitudin tempor id eu nisl nunc. Mi eget mauris pharetra et. Facilisis volutpat est velit egestas dui id ornare arcu. Turpis egestas sed tempus urna. Lorem ipsum dolor sit amet consectetur adipiscing. Volutpat sed cras ornare arcu dui vivamus arcu felis. Nunc id cursus metus aliquam eleifend mi in nulla. Non blandit massa enim nec dui. Ut eu sem integer vitae justo. Suscipit adipiscing bibendum est ultricies integer quis. Dui ut ornare lectus sit amet est placerat in. Sit amet massa vitae tortor. Mollis aliquam ut porttitor leo a diam. Sed libero enim sed faucibus turpis in eu mi. Fermentum et sollicitudin ac orci phasellus. Erat nam at lectus urna. Dolor sed viverra ipsum nunc aliquet bibendum enim facilisis gravida. Et malesuada fames ac turpis egestas integer eget aliquet nibh. In pellentesque massa placerat duis ultricies lacus sed turpis. Sed cras ornare arcu dui vivamus arcu felis bibendum. Fames ac turpis egestas maecenas. Commodo viverra maecenas accumsan lacus. Velit ut tortor pretium viverra suspendisse potenti nullam ac. Luctus accumsan tortor posuere ac ut consequat semper. Urna id volutpat lacus laoreet non curabitur gravida. Mauris pellentesque pulvinar pellentesque habitant morbi tristique. Adipiscing commodo elit at imperdiet dui accumsan sit amet. Scelerisque fermentum dui faucibus in ornare quam viverra orci sagittis. Sit amet nulla facilisi morbi tempus iaculis. Sagittis aliquam malesuada bibendum arcu vitae. Risus at ultrices mi tempus. Non tellus orci ac auctor. Nam aliquam sem et tortor consequat id porta. Lacus sed viverra tellus in hac habitasse. Morbi tristique senectus et netus. Sagittis purus sit amet volutpat consequat mauris nunc. Aenean euismod elementum nisi quis eleifend quam adipiscing. Ac orci phasellus egestas tellus. Lectus urna duis convallis convallis tellus id. Netus et malesuada fames ac turpis egestas. Vestibulum rhoncus est pellentesque elit ullamcorper. Et tortor at risus viverra adipiscing at in tellus integer. Non pulvinar neque laoreet suspendisse interdum consectetur libero id faucibus. Amet risus nullam eget felis eget nunc lobortis mattis aliquam. At tellus at urna condimentum mattis pellentesque id nibh tortor. Mollis aliquam ut porttitor leo. Eu feugiat pretium nibh ipsum consequat nisl vel pretium lectus. Venenatis lectus magna fringilla urna porttitor rhoncus dolor. Ut faucibus pulvinar elementum integer enim neque volutpat ac. Blandit turpis cursus in hac habitasse platea. Nunc consequat interdum varius sit amet mattis vulputate enim nulla. Purus non enim praesent elementum facilisis leo vel fringilla est. Sapien faucibus et molestie ac. Adipiscing enim eu turpis egestas pretium aenean. Tempor commodo ullamcorper a lacus vestibulum sed arcu non. Condimentum lacinia quis vel eros. Placerat in egestas erat imperdiet. Placerat duis ultricies lacus sed turpis tincidunt id aliquet risus. Fermentum posuere urna nec tincidunt praesent. Lacus vestibulum sed arcu non odio. Ipsum dolor sit amet consectetur adipiscing elit pellentesque habitant morbi. Amet nisl purus in mollis nunc sed id semper. Vitae sapien pellentesque habitant morbi. Ultrices gravida dictum fusce ut placerat orci nulla. Dignissim suspendisse in est ante in nibh mauris. Eget duis at tellus at urna condimentum mattis pellentesque. Volutpat blandit aliquam etiam erat velit. Tincidunt id aliquet risus feugiat in. Quis viverra nibh cras pulvinar mattis. Rhoncus est pellentesque elit ullamcorper dignissim cras tincidunt lobortis feugiat. Eu mi bibendum neque egestas congue quisque egestas. Leo vel orci porta non pulvinar neque laoreet suspendisse interdum. Odio facilisis mauris sit amet massa vitae. Ac orci phasellus egestas tellus rutrum tellus pellentesque eu. Sagittis nisl rhoncus mattis rhoncus. Quam quisque id diam vel quam elementum. Urna et pharetra pharetra massa massa. Nisl pretium fusce id velit ut tortor pretium viverra suspendisse. Eu nisl nunc mi ipsum faucibus vitae aliquet. Magna ac placerat vestibulum lectus mauris ultrices eros. Urna condimentum mattis pellentesque id nibh. Eget sit amet tellus cras. Augue interdum velit euismod in pellentesque massa placerat duis. Blandit cursus risus at ultrices mi tempus imperdiet nulla. Eget gravida cum sociis natoque penatibus et magnis dis parturient. Elementum pulvinar etiam non quam lacus suspendisse faucibus. Id diam maecenas ultricies mi. Suscipit adipiscing bibendum est ultricies. Tincidunt vitae semper quis lectus. Mattis nunc sed blandit libero volutpat sed cras. Diam donec adipiscing tristique risus nec. Vestibulum morbi blandit cursus risus at ultrices. Ipsum dolor sit amet consectetur adipiscing elit. Adipiscing enim eu turpis egestas pretium aenean. Leo duis ut diam quam nulla porttitor massa. Tempor commodo ullamcorper a lacus vestibulum. Augue mauris augue neque gravida. Semper eget duis at tellus at urna condimentum mattis. Tortor aliquam nulla facilisi cras. Senectus et netus et malesuada fames. Egestas egestas fringilla phasellus faucibus. Pellentesque habitant morbi tristique senectus et netus et malesuada. Platea dictumst quisque sagittis purus sit amet volutpat consequat. Adipiscing elit pellentesque habitant morbi tristique senectus et netus. Et malesuada fames ac turpis egestas sed. Magna eget est lorem ipsum dolor sit amet consectetur adipiscing. Nunc consequat interdum varius sit amet mattis. In hac habitasse platea dictumst vestibulum rhoncus. Sed vulputate mi sit amet mauris. Lorem ipsum dolor sit amet consectetur adipiscing elit pellentesque. Tellus in hac habitasse platea dictumst vestibulum rhoncus est pellentesque. Ut faucibus pulvinar elementum integer enim neque volutpat ac tincidunt. Ut porttitor leo a diam sollicitudin. Nulla aliquet enim tortor at auctor urna nunc. Viverra nibh cras pulvinar mattis. Mauris commodo quis imperdiet massa tincidunt nunc pulvinar sapien et. Sed enim ut sem viverra aliquet eget sit amet. Mauris sit amet massa vitae tortor condimentum lacinia quis vel. Sagittis orci a scelerisque purus semper eget duis at tellus. Sodales neque sodales ut etiam sit amet nisl purus in. Aliquet lectus proin nibh nisl condimentum id. Eu volutpat odio facilisis mauris sit amet massa. Leo a diam sollicitudin tempor. Sit amet mauris commodo quis imperdiet massa tincidunt nunc. Feugiat nibh sed pulvinar proin gravida hendrerit lectus. Feugiat nisl pretium fusce id velit. Nec tincidunt praesent semper feugiat nibh sed pulvinar proin. Nec ultrices dui sapien eget mi proin sed libero. Pulvinar neque laoreet suspendisse interdum consectetur libero id. Cras ornare arcu dui vivamus arcu. Ac tincidunt vitae semper quis lectus nulla. Egestas erat imperdiet sed euismod nisi porta lorem mollis aliquam. Nunc sed blandit libero volutpat sed cras ornare arcu. Eu facilisis sed odio morbi quis commodo odio aenean. Ridiculus mus mauris vitae ultricies leo integer malesuada. Elementum eu facilisis sed odio morbi quis commodo odio aenean.\"\n",
    "words = document.split()\n",
    "\n",
    "for i, word in enumerate(words):\n",
    "    pass\n",
    "\n",
    "# index only\n",
    "for i, _ in enumerate(words):\n",
    "    pass"
   ]
  },
  {
   "cell_type": "markdown",
   "metadata": {},
   "source": [
    "# Packing, unpacking"
   ]
  },
  {
   "cell_type": "code",
   "execution_count": 124,
   "metadata": {},
   "outputs": [
    {
     "name": "stdout",
     "output_type": "stream",
     "text": [
      "[('a', 1), ('b', 2), ('c', 3)]\n",
      "('a', 'b', 'c')\n",
      "(1, 2, 3)\n"
     ]
    }
   ],
   "source": [
    "# zip\n",
    "list1 = ['a', 'b', 'c']\n",
    "list2 = [1, 2, 3]\n",
    "print(list(zip(list1, list2)))\n",
    "\n",
    "pairs = [('a', 1), ('b', 2), ('c', 3)]\n",
    "letters, numbers = zip(*pairs) \n",
    "# or\n",
    "letters, numbers = list(zip(('a', 1), ('b', 2), ('c', 3)))\n",
    "print(letters)\n",
    "print(numbers)"
   ]
  },
  {
   "cell_type": "code",
   "execution_count": 126,
   "metadata": {},
   "outputs": [
    {
     "name": "stdout",
     "output_type": "stream",
     "text": [
      "3\n",
      "3\n"
     ]
    }
   ],
   "source": [
    "def add(a, b): return a + b\n",
    "\n",
    "print(add(1,2))\n",
    "# print(add([1, 2])) # TypeError\n",
    "print(add(*[1, 2]))"
   ]
  },
  {
   "cell_type": "markdown",
   "metadata": {},
   "source": [
    "# Args, kwargs"
   ]
  },
  {
   "cell_type": "code",
   "execution_count": 127,
   "metadata": {},
   "outputs": [],
   "source": [
    "def doubler(f):\n",
    "    def g(x):\n",
    "        return 2 * f(x)\n",
    "    return g"
   ]
  },
  {
   "cell_type": "code",
   "execution_count": 129,
   "metadata": {},
   "outputs": [
    {
     "name": "stdout",
     "output_type": "stream",
     "text": [
      "8\n",
      "0\n"
     ]
    }
   ],
   "source": [
    "def f1(x):\n",
    "    return x + 1\n",
    "\n",
    "g = doubler(f1)\n",
    "print(g(3))\n",
    "print(g(-1))"
   ]
  },
  {
   "cell_type": "code",
   "execution_count": 131,
   "metadata": {},
   "outputs": [
    {
     "ename": "TypeError",
     "evalue": "g() takes 1 positional argument but 2 were given",
     "output_type": "error",
     "traceback": [
      "\u001b[0;31m---------------------------------------------------------------------------\u001b[0m",
      "\u001b[0;31mTypeError\u001b[0m                                 Traceback (most recent call last)",
      "\u001b[0;32m<ipython-input-131-0a53172dc1e5>\u001b[0m in \u001b[0;36m<module>\u001b[0;34m\u001b[0m\n\u001b[1;32m      3\u001b[0m \u001b[0;34m\u001b[0m\u001b[0m\n\u001b[1;32m      4\u001b[0m \u001b[0mg\u001b[0m \u001b[0;34m=\u001b[0m \u001b[0mdoubler\u001b[0m\u001b[0;34m(\u001b[0m\u001b[0mf2\u001b[0m\u001b[0;34m)\u001b[0m\u001b[0;34m\u001b[0m\u001b[0m\n\u001b[0;32m----> 5\u001b[0;31m \u001b[0mprint\u001b[0m\u001b[0;34m(\u001b[0m\u001b[0mg\u001b[0m\u001b[0;34m(\u001b[0m\u001b[0;36m1\u001b[0m\u001b[0;34m,\u001b[0m \u001b[0;36m2\u001b[0m\u001b[0;34m)\u001b[0m\u001b[0;34m)\u001b[0m\u001b[0;34m\u001b[0m\u001b[0m\n\u001b[0m",
      "\u001b[0;31mTypeError\u001b[0m: g() takes 1 positional argument but 2 were given"
     ]
    }
   ],
   "source": [
    "def f2(x, y):\n",
    "    return x + y\n",
    "\n",
    "g = doubler(f2)\n",
    "print(g(1, 2))"
   ]
  },
  {
   "cell_type": "code",
   "execution_count": 132,
   "metadata": {},
   "outputs": [
    {
     "name": "stdout",
     "output_type": "stream",
     "text": [
      "positional args:  (1, 2)\n",
      "named args:  {'key': 'word', 'key2': 'word2'}\n"
     ]
    }
   ],
   "source": [
    "def magic(*args, **kwargs):\n",
    "    print(\"positional args: \", args)\n",
    "    print(\"named args: \", kwargs)\n",
    "    \n",
    "magic(1, 2, key=\"word\", key2=\"word2\")"
   ]
  },
  {
   "cell_type": "code",
   "execution_count": 133,
   "metadata": {},
   "outputs": [
    {
     "name": "stdout",
     "output_type": "stream",
     "text": [
      "6\n"
     ]
    }
   ],
   "source": [
    "def other_way_magic(x, y, z):\n",
    "    return x + y + z\n",
    "x_y_list = [1, 2]\n",
    "z_dict = {\"z\": 3}\n",
    "print(other_way_magic(*x_y_list, **z_dict))"
   ]
  },
  {
   "cell_type": "code",
   "execution_count": 134,
   "metadata": {},
   "outputs": [
    {
     "name": "stdout",
     "output_type": "stream",
     "text": [
      "6\n"
     ]
    }
   ],
   "source": [
    "# correct doubler\n",
    "def doubler_correct(f):\n",
    "    def g(*args, **kwargs):\n",
    "        return 2 * f(*args, **kwargs)\n",
    "    return g\n",
    "\n",
    "g = doubler_correct(f2)\n",
    "print(g(1,2))"
   ]
  },
  {
   "cell_type": "code",
   "execution_count": null,
   "metadata": {},
   "outputs": [],
   "source": []
  }
 ],
 "metadata": {
  "kernelspec": {
   "display_name": "Python 3",
   "language": "python",
   "name": "python3"
  },
  "language_info": {
   "codemirror_mode": {
    "name": "ipython",
    "version": 3
   },
   "file_extension": ".py",
   "mimetype": "text/x-python",
   "name": "python",
   "nbconvert_exporter": "python",
   "pygments_lexer": "ipython3",
   "version": "3.5.2"
  }
 },
 "nbformat": 4,
 "nbformat_minor": 2
}
